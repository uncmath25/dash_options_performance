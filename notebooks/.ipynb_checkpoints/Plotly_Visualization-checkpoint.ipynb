{
 "cells": [
  {
   "cell_type": "markdown",
   "id": "ae7df8c7-3735-4eee-b4d3-de0319b287f6",
   "metadata": {},
   "source": [
    "# Plotly Visualization"
   ]
  },
  {
   "cell_type": "markdown",
   "id": "5cbb2924-2556-47ea-a120-7a354dded372",
   "metadata": {},
   "source": [
    "## Setup"
   ]
  },
  {
   "cell_type": "code",
   "execution_count": 1,
   "id": "7c43e651-8da2-4a99-bbd9-21805fb21a55",
   "metadata": {},
   "outputs": [
    {
     "data": {
      "text/html": [
       "        <script type=\"text/javascript\">\n",
       "        window.PlotlyConfig = {MathJaxConfig: 'local'};\n",
       "        if (window.MathJax && window.MathJax.Hub && window.MathJax.Hub.Config) {window.MathJax.Hub.Config({SVG: {font: \"STIX-Web\"}});}\n",
       "        if (typeof require !== 'undefined') {\n",
       "        require.undef(\"plotly\");\n",
       "        requirejs.config({\n",
       "            paths: {\n",
       "                'plotly': ['https://cdn.plot.ly/plotly-2.35.2.min']\n",
       "            }\n",
       "        });\n",
       "        require(['plotly'], function(Plotly) {\n",
       "            window._Plotly = Plotly;\n",
       "        });\n",
       "        }\n",
       "        </script>\n",
       "        "
      ]
     },
     "metadata": {},
     "output_type": "display_data"
    }
   ],
   "source": [
    "import numpy as np\n",
    "import os\n",
    "import pandas as pd\n",
    "import plotly.graph_objects as go\n",
    "from plotly.offline import init_notebook_mode, iplot\n",
    "import pymysql\n",
    "\n",
    "init_notebook_mode(connected=True)"
   ]
  },
  {
   "cell_type": "code",
   "execution_count": 2,
   "id": "0a5470fe-efc3-4474-9ad7-64e4cff7331f",
   "metadata": {},
   "outputs": [],
   "source": [
    "DB_HOST = str(os.environ['DB_HOST'])\n",
    "DB_PORT = int(os.environ['DB_PORT'])\n",
    "DB_USER = str(os.environ['DB_USER'])\n",
    "DB_PASSWORD = str(os.environ['DB_PASSWORD'])"
   ]
  },
  {
   "cell_type": "code",
   "execution_count": 3,
   "id": "61095cf2-6333-4bb5-9393-f67bc595cc99",
   "metadata": {},
   "outputs": [],
   "source": [
    "def query_mysql_database(query):\n",
    "    conn = pymysql.connect(user=DB_USER, passwd=DB_PASSWORD, host=DB_HOST, port=DB_PORT,\n",
    "                           charset='utf8', local_infile=True)\n",
    "    cur = conn.cursor()\n",
    "    cur.execute(query)\n",
    "    data = cur.fetchall()\n",
    "    if cur.description is not None:\n",
    "        column_names = [str(row[0]) for row in cur.description]\n",
    "    else:\n",
    "        column_names = None\n",
    "    cur.close()\n",
    "    conn.commit()\n",
    "    conn.close()\n",
    "    return(data, column_names)"
   ]
  },
  {
   "cell_type": "code",
   "execution_count": 4,
   "id": "b9bbfdbb-680c-4037-942d-b9d06fbe6bd5",
   "metadata": {},
   "outputs": [
    {
     "data": {
      "text/plain": [
       "(((1, 1, 270, datetime.date(2019, 1, 1), 'Wells Fargo primary checking'),\n",
       "  (2, 2, 550, datetime.date(2019, 1, 1), 'Ally emergency savings'),\n",
       "  (3, 2, 210, datetime.date(2019, 1, 1), 'Marcus extra savings'),\n",
       "  (4, 2, 770, datetime.date(2019, 1, 1), 'Cash'),\n",
       "  (5, 3, 3800, datetime.date(2019, 1, 1), 'Bitcoin (1)'),\n",
       "  (6, 3, 2940, datetime.date(2019, 1, 1), 'MAX stock'),\n",
       "  (7, 4, 18480, datetime.date(2019, 1, 1), 'Colton Roth IRA'),\n",
       "  (8, 4, 10670, datetime.date(2019, 1, 1), 'Danica Roth IRA'),\n",
       "  (9, 4, 17920, datetime.date(2019, 1, 1), 'IPT 401K'),\n",
       "  (10, 4, 560, datetime.date(2019, 1, 1), 'TVT 401K')),\n",
       " ['id', 'asset_type_id', 'value', 'value_date', 'description'])"
      ]
     },
     "execution_count": 4,
     "metadata": {},
     "output_type": "execute_result"
    }
   ],
   "source": [
    "query_mysql_database('SELECT * FROM net_worth_tracker.financial_assets LIMIT 10')"
   ]
  },
  {
   "cell_type": "markdown",
   "id": "852ff323-80ea-417d-8417-6b3b58532bda",
   "metadata": {},
   "source": [
    "## Load Data"
   ]
  },
  {
   "cell_type": "code",
   "execution_count": null,
   "id": "0211f75d-118f-44c4-88ed-88169197a3c1",
   "metadata": {},
   "outputs": [],
   "source": []
  }
 ],
 "metadata": {
  "kernelspec": {
   "display_name": "Python 3 (ipykernel)",
   "language": "python",
   "name": "python3"
  },
  "language_info": {
   "codemirror_mode": {
    "name": "ipython",
    "version": 3
   },
   "file_extension": ".py",
   "mimetype": "text/x-python",
   "name": "python",
   "nbconvert_exporter": "python",
   "pygments_lexer": "ipython3",
   "version": "3.11.6"
  }
 },
 "nbformat": 4,
 "nbformat_minor": 5
}
